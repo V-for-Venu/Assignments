{
 "cells": [
  {
   "cell_type": "markdown",
   "id": "305b9f0e",
   "metadata": {},
   "source": [
    "# Assignment 4 - Python\n",
    "___\n",
    "## Venu Sai Vayigandla\n",
    "### Referral Code : DIRSS3132"
   ]
  },
  {
   "cell_type": "code",
   "execution_count": 2,
   "id": "9ddcf8b1",
   "metadata": {},
   "outputs": [
    {
     "name": "stdout",
     "output_type": "stream",
     "text": [
      "Enter the Number: 9\n",
      "odd\n"
     ]
    }
   ],
   "source": [
    "#1. Take any value from the user, print “odd” if the value entered is odd and print “even” otherwise.\n",
    "\n",
    "num = int(input(\"Enter the Number: \"))\n",
    "print(\"even\" if num%2==0 else \"odd\")"
   ]
  },
  {
   "cell_type": "code",
   "execution_count": 4,
   "id": "3593148d",
   "metadata": {},
   "outputs": [
    {
     "name": "stdout",
     "output_type": "stream",
     "text": [
      "Enter the Value: 100+2j\n",
      "Given Value 100+2j is a Complex Number.\n"
     ]
    }
   ],
   "source": [
    "#2 . Take input from the user and check if the number is a complex number.\n",
    "\n",
    "value = input(\"Enter the Value: \")\n",
    "try:\n",
    "    m = complex(value)\n",
    "    if isinstance(m,complex) and 'j' in value:\n",
    "        print(f\"Given Value {value} is a Complex Number.\")\n",
    "    else:\n",
    "        raise ValueError\n",
    "except ValueError:\n",
    "    print(\"Given Value is not a Complex Number\")"
   ]
  },
  {
   "cell_type": "code",
   "execution_count": 6,
   "id": "be9f0a4a",
   "metadata": {},
   "outputs": [
    {
     "name": "stdout",
     "output_type": "stream",
     "text": [
      "Enter your Marks (Between 0 and 100): 100\n",
      "A\n"
     ]
    }
   ],
   "source": [
    "#3. Create a program to enter marks from the user out of 100 and display grades\n",
    "marks = int(input(\"Enter your Marks (Between 0 and 100): \"))\n",
    "\n",
    "if marks<=100 and marks>90:\n",
    "    print('A')\n",
    "elif marks<=90 and marks>75:\n",
    "    print('B')\n",
    "elif marks<=75 and marks>60:\n",
    "    print('C')\n",
    "elif marks<=60 and marks>45:\n",
    "    print('D')\n",
    "elif marks<=45 and marks>33:\n",
    "    print('E')\n",
    "elif marks<=33:\n",
    "    print('F')\n",
    "else:\n",
    "    print(\"Marks should be between 0 and 100...\")"
   ]
  },
  {
   "cell_type": "code",
   "execution_count": 9,
   "id": "cce185c7",
   "metadata": {},
   "outputs": [
    {
     "name": "stdout",
     "output_type": "stream",
     "text": [
      "Enter 3 Numbers: 10 9 8\n",
      "0\n"
     ]
    }
   ],
   "source": [
    "#4. Say three integers have been given. Determine how many of them are equal to each other.\n",
    "\n",
    "a,b,c = map(int,input(\"Enter 3 Numbers: \").split())\n",
    "if a==b==c:\n",
    "    print(3)\n",
    "elif a==b or b==c or c==a:\n",
    "    print(2)\n",
    "else:\n",
    "    print(0)"
   ]
  },
  {
   "cell_type": "code",
   "execution_count": 10,
   "id": "d9e521b5",
   "metadata": {},
   "outputs": [
    {
     "name": "stdout",
     "output_type": "stream",
     "text": [
      "....Usually a Truck Travels 14kms per Day....\n",
      "\n",
      " Enter the Number of Kilometers to be travelled: \n",
      "285\n",
      "Days required for truck to travel 285.0 Kilometers is: 20.36\n"
     ]
    }
   ],
   "source": [
    "#5. A truck runs a distance of N kms per day. Write a program to calculate how many days will be taken to cover M kms.\n",
    "\n",
    "kms = float(input(\"....Usually a Truck Travels 14kms per Day....\\n\\n Enter the Number of Kilometers to be travelled: \\n\"))\n",
    "print(f\"Days required for truck to travel {kms} Kilometers is: {round(kms/14,2)}\")"
   ]
  },
  {
   "cell_type": "code",
   "execution_count": 11,
   "id": "d0f25143",
   "metadata": {},
   "outputs": [
    {
     "name": "stdout",
     "output_type": "stream",
     "text": [
      "Enter Name: Venu Sai\n",
      "Enter Surname: Vayigandla\n",
      "Enter Phone Number: 1234567890\n",
      "Enter Hobbies <Seperated by ',' >reading,playing,games,coding\n",
      "Venu SaiVayigandla1234567890readingplayinggamescoding\n"
     ]
    }
   ],
   "source": [
    "#6 Pass your name, surname, phone_no, hobbies in a python script and get all the passed values in a line without space.\n",
    "\n",
    "name = input(\"Enter Name: \")\n",
    "surname = input(\"Enter Surname: \")\n",
    "phone = input(\"Enter Phone Number: \")\n",
    "hobbies = list(map(str,input(\"Enter Hobbies <Seperated by ',' >\").split(',')))\n",
    "\n",
    "print(name,surname,phone,''.join(hobbies),sep='')"
   ]
  },
  {
   "cell_type": "code",
   "execution_count": 12,
   "id": "39fd2c8d",
   "metadata": {},
   "outputs": [
    {
     "name": "stdout",
     "output_type": "stream",
     "text": [
      "R S 1\n",
      "nu S\n",
      "yiga\n",
      "V e n u   S a i V a y i g a n d l a "
     ]
    }
   ],
   "source": [
    "#7.a Write a python script to separate 2,3,6 characters from your ID.\n",
    "Id = 'DIRSS3132'\n",
    "print(*[Id[i] for i in([2,3,6])])\n",
    "\n",
    "#7.b Write a python script to To print character 2 to 5 in your name and surname.\n",
    "print(name[2:6])\n",
    "print(surname[2:6])\n",
    "\n",
    "#7.c Write a python script to Print all the characters of your name and surname\n",
    "for i in name+surname:\n",
    "    print(i,end=' ')"
   ]
  },
  {
   "cell_type": "code",
   "execution_count": 13,
   "id": "6551ec0a",
   "metadata": {},
   "outputs": [
    {
     "name": "stdout",
     "output_type": "stream",
     "text": [
      "I am Venu Sai. My Id is 999999. \n",
      "My Contact Number is 8877665544. I live in India.\n",
      "I am from Computer Science and Engineering. I joined on 9 Jan 2022.\n",
      "I work at TCS. \n",
      "I'm a programmer, a reader and a cinephile.\n",
      "I am good learner but I have less Patience. \n",
      "\n",
      "I am Venu Sai. My Id is 999999. \n",
      "My Contact Number is 8877665544. I live in India.\n",
      "I am from Computer Science and Engineering. I joined on 9 Jan 2022.\n",
      "I work at TCS. \n",
      "I'm a programmer, a reader and a cinephile.\n",
      "I am good learner but I have less Patience. \n",
      "Total Number of Lines :  6\n",
      "\n",
      "['I', 'am', 'Venu', 'Sai', 'My', 'Id', 'is', '999999', 'My', 'Contact', 'Number', 'is', '8877665544', 'I', 'live', 'in', 'India', 'I', 'am', 'from', 'Computer', 'Science', 'and', 'Engineering', 'I', 'joined', 'on', '9', 'Jan', '2022', 'I', 'work', 'at', 'TCS', \"I'm\", 'a', 'programmer,', 'a', 'reader', 'and', 'a', 'cinephile', 'I', 'am', 'good', 'learner', 'but', 'I', 'have', 'less', 'Patience']\n",
      "\n",
      "['2022', '8877665544', '9', '999999']\n",
      "\n",
      "[2022, 8877665544, 9, 999999]\n",
      "\n",
      "189\n",
      "\n",
      "\u001b[1m\n",
      "Total Number of Characters in file = 189\n",
      "Total Number of Numbers in file = 4\n",
      "Total Number of Words in file = 50\n",
      "Total Number of Lines in file = 6\n"
     ]
    }
   ],
   "source": [
    "# 8.Write your short introduction in a text file. Your introduction consists of Name, Id,\n",
    "# contact number, Address, Stream, Joining date, Qualification, Hobbies, Strength\n",
    "# and weakness. Pass this file to python. Your task is to calculate total characters,\n",
    "# numbers, words and lines used in this introduction file.\n",
    "\n",
    "#Opening the File\n",
    "file = open(\"intro.txt\",'r')\n",
    "data = file.read()\n",
    "print(data)\n",
    "print()\n",
    "test = data\n",
    "\n",
    "\n",
    "#splitting the file into Lines\n",
    "lines = test.split('\\n')\n",
    "for line in lines:\n",
    "    print(line)\n",
    "print(\"Total Number of Lines : \",len(lines))  \n",
    "print()\n",
    "\n",
    "#splitting the Lines into Words\n",
    "words = []\n",
    "for line in lines:\n",
    "    for word in line.split():\n",
    "        word = word.replace('.','')            #removing \".\"\n",
    "        words.append(word)                  \n",
    "print(words)  \n",
    "print()\n",
    "\n",
    "# seperating numbers from the words\n",
    "numbers = sorted(words)[0:4]            \n",
    "print(numbers)\n",
    "print()\n",
    "\n",
    "#removing numbers from words\n",
    "for num in numbers:\n",
    "    try:\n",
    "        words.remove(num)\n",
    "    except ValueError:\n",
    "        print(\"Values are Already Removed (or Not Present)\")             \n",
    "    break\n",
    "\n",
    "# Changing dtype of Numbers\n",
    "result = map(int,numbers)                  \n",
    "numbers = list(result)\n",
    "print(numbers)\n",
    "print()\n",
    "\n",
    "#Counting Characters in the file\n",
    "charcount = 0\n",
    "for word in words:\n",
    "    for char in word:\n",
    "        charcount+=1\n",
    "print(charcount)   \n",
    "print()\n",
    "\n",
    "#Finally Printing the Result\n",
    "print(\"\\033[1m\")\n",
    "print(f\"Total Number of Characters in file = {charcount}\")\n",
    "print(f\"Total Number of Numbers in file = {len(numbers)}\")\n",
    "print(f\"Total Number of Words in file = {len(words)}\")\n",
    "print(f\"Total Number of Lines in file = {len(lines)}\")"
   ]
  },
  {
   "cell_type": "code",
   "execution_count": 15,
   "id": "b9d3fcac",
   "metadata": {},
   "outputs": [
    {
     "name": "stdout",
     "output_type": "stream",
     "text": [
      "Enter First Number :10\n",
      "Enter Second Number :0\n",
      "\n",
      "\u001b[1mDivision by Zero is Not Possible... Exiting Program...!!!\n",
      " <class 'ZeroDivisionError'>\n"
     ]
    }
   ],
   "source": [
    "# 9.Create a function that performs division of numbers. Since divide by zero gives an\n",
    "# infinite so if a number which is denominator and 0 must give an exception while\n",
    "# performing division operation.\n",
    "\n",
    "def division(a,b):\n",
    "    return round(a/b,2)\n",
    "\n",
    "a= int(input(\"Enter First Number :\"))\n",
    "b= int(input(\"Enter Second Number :\"))\n",
    "try: \n",
    "    print(division(a,b))\n",
    "except:\n",
    "    print(f\"\\n\\033[1mDivision by Zero is Not Possible... Exiting Program...!!!\\n {ZeroDivisionError}\")"
   ]
  },
  {
   "cell_type": "code",
   "execution_count": 16,
   "id": "3aea7077",
   "metadata": {},
   "outputs": [
    {
     "name": "stdout",
     "output_type": "stream",
     "text": [
      "I am Venu Sai. My Id is 999999. \n",
      "My Contact Number is 8877665544. I live in India.\n",
      "I am from Computer Science and Engineering. I joined on 9 Jan 2022.\n",
      "I work at TCS. \n",
      "I'm a programmer, a reader and a cinephile.\n",
      "I am good learner but I have less Patience. \n",
      "\n",
      "\u001b[1mCannot Write to a File in Read Only Mode...!!! Closing the Program..\n"
     ]
    }
   ],
   "source": [
    "# 10.Create a file in read only mode. Open this file using python and try to write your\n",
    "# contact number in that file. As this file is write protected so an exception should\n",
    "# occur. Handle this exception using python script.\n",
    "\n",
    "#Opening a file in ReadOnly mode\n",
    "file = open(\"intro.txt\",'r')\n",
    "text = file.read()\n",
    "print(text)\n",
    "print()\n",
    "\n",
    "#Handling the Exception\n",
    "try:\n",
    "    file = file.write(\"My Contact Number is 9999999999\")    \n",
    "except:\n",
    "    print(f\"\\033[1mCannot Write to a File in Read Only Mode...!!! Closing the Program..\")"
   ]
  },
  {
   "cell_type": "code",
   "execution_count": 17,
   "id": "15c15e3a",
   "metadata": {},
   "outputs": [
    {
     "name": "stdout",
     "output_type": "stream",
     "text": [
      "Damon\n",
      "Bonnie\n",
      "Tyler\n",
      "\n",
      "Yes, damon is a vampire\n",
      "bennet not found in SuperNatural Creatures\n",
      "No, tyler is not a hybrid\n"
     ]
    }
   ],
   "source": [
    "#11 A. base class with a couple methods\n",
    "\n",
    "class SuperNatural():\n",
    "    def __init__(self,name,kind,issupernatural = True):\n",
    "        self.name=name\n",
    "        self.kind=kind\n",
    "        self.issupernatural = issupernatural\n",
    "    \n",
    "    #method1\n",
    "    def get_name(self):\n",
    "        return self.name\n",
    "    \n",
    "    #method2\n",
    "    def check_kind(self,name,kind):\n",
    "        if self.name.lower() == name.lower():\n",
    "            if self.kind.lower() == kind.lower():\n",
    "                return f\"Yes, {name} is a {kind}\"\n",
    "            else:\n",
    "                return f\"No, {name} is not a {kind}\"\n",
    "        else:\n",
    "            return f\"{name} not found in SuperNatural Creatures\"\n",
    "    #method3\n",
    "    def display_status(self):\n",
    "        print(\"Given Object is a SUPERNATURAL Class...\")\n",
    "\n",
    "vamp = SuperNatural(\"Damon\",\"Vampire\",\"True\")\n",
    "witch = SuperNatural(\"Bonnie\",\"Witch\",\"True\")\n",
    "were = SuperNatural(\"Tyler\",\"Werewolf\",\"True\")\n",
    "\n",
    "print(vamp.get_name())\n",
    "print(witch.get_name())\n",
    "print(were.get_name())\n",
    "print()\n",
    "\n",
    "print(vamp.check_kind(\"damon\",\"vampire\"))\n",
    "print(witch.check_kind(\"bennet\",\"witch\"))\n",
    "print(were.check_kind(\"tyler\",'hybrid'))"
   ]
  },
  {
   "cell_type": "code",
   "execution_count": 19,
   "id": "3d1ad258",
   "metadata": {},
   "outputs": [
    {
     "name": "stdout",
     "output_type": "stream",
     "text": [
      "Stefan Vampire SuperNatural= True\n",
      "Matt Human SuperNatural= False\n"
     ]
    }
   ],
   "source": [
    "#11. b. Subclass overriding class attributes\n",
    "class Humans(SuperNatural):\n",
    "    def __init__(self,name,kind,issupernatural = False): # Here subclass overrides class attributes\n",
    "        super().__init__(name,kind,issupernatural)\n",
    "        self.issupernatural = issupernatural\n",
    "    def display_status(self):\n",
    "        print(\"Given Object is a HUMAN/Sub Class...\")\n",
    "    \n",
    "vampire = SuperNatural(\"Stefan\",\"Vampire\")\n",
    "human = Humans(\"Matt\",\"Human\")\n",
    "\n",
    "print(vampire.name,vampire.kind,\"SuperNatural=\",vampire.issupernatural)\n",
    "print(human.name,human.kind,\"SuperNatural=\",human.issupernatural)"
   ]
  },
  {
   "cell_type": "code",
   "execution_count": 20,
   "id": "e5f230c1",
   "metadata": {},
   "outputs": [
    {
     "name": "stdout",
     "output_type": "stream",
     "text": [
      "Given Object is a SUPERNATURAL Class...\n",
      "Given Object is a HUMAN/Sub Class...\n"
     ]
    }
   ],
   "source": [
    "#11 c. Subclass overriding a method\n",
    "\n",
    "witch = SuperNatural(\"Bennie\",\"Witch\")\n",
    "human = Humans(\"Alaric\",\"Human\")\n",
    "\n",
    "#Same method overriden \n",
    "witch.display_status()\n",
    "human.display_status()"
   ]
  },
  {
   "cell_type": "code",
   "execution_count": 21,
   "id": "d61a24dc",
   "metadata": {},
   "outputs": [
    {
     "name": "stdout",
     "output_type": "stream",
     "text": [
      "\u001b[1mFrom Parent Class Constructor\n",
      "Name = Venu Sai\n",
      "ID = 100\n",
      "\n",
      "\u001b[1mFrom Child Class Constructor\n",
      "Marks = 95\n",
      "School = Oxford School\n",
      "Name = 95\n",
      "ID = Oxford School\n"
     ]
    }
   ],
   "source": [
    "#11 d. Subclass overriding the ___init__\n",
    "\n",
    "class Person():\n",
    "    def __init__(self,name,Id):\n",
    "        print(\"Name =\",name)\n",
    "        print(\"ID =\",Id)\n",
    "\n",
    "class Details(Person):\n",
    "    def __init__(self,marks,school,*arguments):\n",
    "        print(\"Marks =\",marks)\n",
    "        print(\"School =\",school)\n",
    "        super(Details,self).__init__(marks,school)\n",
    "        \n",
    "print(\"\\033[1mFrom Parent Class Constructor\")\n",
    "first = Person(\"Venu Sai\",\"100\")\n",
    "print()\n",
    "\n",
    "print(\"\\033[1mFrom Child Class Constructor\")\n",
    "child = Details(95,\"Oxford School\",\"Venu Sai\",10023)"
   ]
  },
  {
   "cell_type": "code",
   "execution_count": null,
   "id": "036edb1e",
   "metadata": {},
   "outputs": [],
   "source": []
  }
 ],
 "metadata": {
  "kernelspec": {
   "display_name": "Python 3",
   "language": "python",
   "name": "python3"
  },
  "language_info": {
   "codemirror_mode": {
    "name": "ipython",
    "version": 3
   },
   "file_extension": ".py",
   "mimetype": "text/x-python",
   "name": "python",
   "nbconvert_exporter": "python",
   "pygments_lexer": "ipython3",
   "version": "3.8.8"
  }
 },
 "nbformat": 4,
 "nbformat_minor": 5
}

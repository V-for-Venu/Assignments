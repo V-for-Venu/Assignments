{
 "cells": [
  {
   "cell_type": "markdown",
   "id": "305b9f0e",
   "metadata": {},
   "source": [
    "# Assignment 3 - File Handling\n",
    "___\n",
    "## Venu Sai Vayigandla\n",
    "### Referral Code : DIRSS3132"
   ]
  },
  {
   "cell_type": "markdown",
   "id": "0a3327fe",
   "metadata": {},
   "source": [
    "Q1. Write your short introduction in a text file. Your introduction consists of Name, Id, contact\n",
    "number, Address, Stream, Joining date, Qualification, Hobbies, Strength and weakness. Pass\n",
    "this file to python. Your task is to calculate total characters, numbers, words and lines used\n",
    "in this introduction file."
   ]
  },
  {
   "cell_type": "code",
   "execution_count": 2,
   "id": "4eada9fe",
   "metadata": {},
   "outputs": [],
   "source": [
    "#Solution for Q1\n",
    "file = open(\"intro.txt\",'r')\n",
    "data = file.read()"
   ]
  },
  {
   "cell_type": "code",
   "execution_count": 3,
   "id": "c8ef2c3d",
   "metadata": {},
   "outputs": [
    {
     "name": "stdout",
     "output_type": "stream",
     "text": [
      "I am Venu Sai. My Id is 999999. \n",
      "My Contact Number is 8877665544. I live in India.\n",
      "I am from Computer Science and Engineering. I joined on 9 Jan 2022.\n",
      "I work at TCS. \n",
      "I'm a programmer, a reader and a cinephile.\n",
      "I am good learner but I have less Patience. \n"
     ]
    }
   ],
   "source": [
    "print(data)"
   ]
  },
  {
   "cell_type": "code",
   "execution_count": 4,
   "id": "4b73549a",
   "metadata": {},
   "outputs": [],
   "source": [
    "test = data"
   ]
  },
  {
   "cell_type": "code",
   "execution_count": 5,
   "id": "0d42c06d",
   "metadata": {},
   "outputs": [
    {
     "name": "stdout",
     "output_type": "stream",
     "text": [
      "I am Venu Sai. My Id is 999999. \n",
      "My Contact Number is 8877665544. I live in India.\n",
      "I am from Computer Science and Engineering. I joined on 9 Jan 2022.\n",
      "I work at TCS. \n",
      "I'm a programmer, a reader and a cinephile.\n",
      "I am good learner but I have less Patience. \n",
      "Total Number of Lines :  6\n"
     ]
    }
   ],
   "source": [
    "lines = test.split('\\n')\n",
    "for line in lines:\n",
    "    print(line)\n",
    "print(\"Total Number of Lines : \",len(lines))  #splitting the file into Lines"
   ]
  },
  {
   "cell_type": "code",
   "execution_count": 6,
   "id": "0441cc9b",
   "metadata": {},
   "outputs": [],
   "source": [
    "words = []\n",
    "for line in lines:\n",
    "    for word in line.split():\n",
    "        word = word.replace('.','')            #removing \".\"\n",
    "        words.append(word)                  #splitting the file into words"
   ]
  },
  {
   "cell_type": "code",
   "execution_count": 7,
   "id": "94aa17ad",
   "metadata": {},
   "outputs": [
    {
     "name": "stdout",
     "output_type": "stream",
     "text": [
      "['I', 'am', 'Venu', 'Sai', 'My', 'Id', 'is', '999999', 'My', 'Contact', 'Number', 'is', '8877665544', 'I', 'live', 'in', 'India', 'I', 'am', 'from', 'Computer', 'Science', 'and', 'Engineering', 'I', 'joined', 'on', '9', 'Jan', '2022', 'I', 'work', 'at', 'TCS', \"I'm\", 'a', 'programmer,', 'a', 'reader', 'and', 'a', 'cinephile', 'I', 'am', 'good', 'learner', 'but', 'I', 'have', 'less', 'Patience']\n"
     ]
    }
   ],
   "source": [
    "print(words)  "
   ]
  },
  {
   "cell_type": "code",
   "execution_count": 8,
   "id": "6f17d679",
   "metadata": {},
   "outputs": [
    {
     "name": "stdout",
     "output_type": "stream",
     "text": [
      "['2022', '8877665544', '9', '999999']\n"
     ]
    }
   ],
   "source": [
    "numbers = sorted(words)[0:4]            # seperating numbers from the words\n",
    "print(numbers)"
   ]
  },
  {
   "cell_type": "code",
   "execution_count": 10,
   "id": "bec24a97",
   "metadata": {},
   "outputs": [
    {
     "name": "stdout",
     "output_type": "stream",
     "text": [
      "Values are Already Removed (or Not Present)\n"
     ]
    }
   ],
   "source": [
    "for num in numbers:\n",
    "    try:\n",
    "        words.remove(num)\n",
    "    except ValueError:\n",
    "        print(\"Values are Already Removed (or Not Present)\")             #reomoving numbers from words\n",
    "    break"
   ]
  },
  {
   "cell_type": "code",
   "execution_count": 11,
   "id": "1894d15e",
   "metadata": {},
   "outputs": [
    {
     "name": "stdout",
     "output_type": "stream",
     "text": [
      "['I', 'am', 'Venu', 'Sai', 'My', 'Id', 'is', '999999', 'My', 'Contact', 'Number', 'is', '8877665544', 'I', 'live', 'in', 'India', 'I', 'am', 'from', 'Computer', 'Science', 'and', 'Engineering', 'I', 'joined', 'on', '9', 'Jan', 'I', 'work', 'at', 'TCS', \"I'm\", 'a', 'programmer,', 'a', 'reader', 'and', 'a', 'cinephile', 'I', 'am', 'good', 'learner', 'but', 'I', 'have', 'less', 'Patience']\n"
     ]
    }
   ],
   "source": [
    "print(words)"
   ]
  },
  {
   "cell_type": "code",
   "execution_count": 12,
   "id": "2613e4d1",
   "metadata": {},
   "outputs": [
    {
     "name": "stdout",
     "output_type": "stream",
     "text": [
      "[2022, 8877665544, 9, 999999]\n"
     ]
    }
   ],
   "source": [
    "result = map(int,numbers)                  # Changing dtype of Numbers\n",
    "numbers = list(result)\n",
    "print(numbers)"
   ]
  },
  {
   "cell_type": "code",
   "execution_count": 13,
   "id": "7104cc87",
   "metadata": {},
   "outputs": [
    {
     "name": "stdout",
     "output_type": "stream",
     "text": [
      "189\n"
     ]
    }
   ],
   "source": [
    "charcount = 0\n",
    "for word in words:\n",
    "    for char in word:\n",
    "        charcount+=1\n",
    "print(charcount)                                   #Counting Characters in the file"
   ]
  },
  {
   "cell_type": "code",
   "execution_count": 14,
   "id": "363f26bc",
   "metadata": {},
   "outputs": [
    {
     "name": "stdout",
     "output_type": "stream",
     "text": [
      "Total Number of Characters in file = 189\n",
      "Total Number of Numbers in file = 4\n",
      "Total Number of Words in file = 50\n",
      "Total Number of Lines in file = 6\n"
     ]
    }
   ],
   "source": [
    "print(f\"Total Number of Characters in file = {charcount}\")\n",
    "print(f\"Total Number of Numbers in file = {len(numbers)}\")\n",
    "print(f\"Total Number of Words in file = {len(words)}\")\n",
    "print(f\"Total Number of Lines in file = {len(lines)}\")"
   ]
  },
  {
   "cell_type": "markdown",
   "id": "48312d75",
   "metadata": {},
   "source": [
    "Q2. Create a file in read only mode. Open this file using python and try to write your contact\n",
    "number in that file. As this file is write protected so an exception should occur. Handle this\n",
    "exception using python script with user-defined exception classes"
   ]
  },
  {
   "cell_type": "code",
   "execution_count": 15,
   "id": "47df4976",
   "metadata": {},
   "outputs": [
    {
     "name": "stdout",
     "output_type": "stream",
     "text": [
      "I am Venu Sai. My Id is 999999. \n",
      "My Contact Number is 8877665544. I live in India.\n",
      "I am from Computer Science and Engineering. I joined on 9 Jan 2022.\n",
      "I work at TCS. \n",
      "I'm a programmer, a reader and a cinephile.\n",
      "I am good learner but I have less Patience. \n"
     ]
    }
   ],
   "source": [
    "file = open(\"intro.txt\",'r')\n",
    "text = file.read()\n",
    "print(text)"
   ]
  },
  {
   "cell_type": "code",
   "execution_count": 16,
   "id": "3330398d",
   "metadata": {},
   "outputs": [],
   "source": [
    "class WriteError(Exception):\n",
    "    \"\"\"Cannot Write text in Read Only Mode\"\"\"            # User Defined Exception\n",
    "    pass"
   ]
  },
  {
   "cell_type": "code",
   "execution_count": 17,
   "id": "f0a97719",
   "metadata": {},
   "outputs": [
    {
     "name": "stdout",
     "output_type": "stream",
     "text": [
      "Cannot Write to a File in Read Only Mode...!!! Closing the Program..\n",
      "<class '__main__.WriteError'>\n"
     ]
    }
   ],
   "source": [
    "try:\n",
    "    file = file.write(\"My Contact Number is 9999999999\")\n",
    "    raise WriteError\n",
    "    \n",
    "except:\n",
    "    print(f\"Cannot Write to a File in Read Only Mode...!!! Closing the Program..\\n{WriteError}\")\n",
    "    "
   ]
  },
  {
   "cell_type": "markdown",
   "id": "8c0c9ce4",
   "metadata": {},
   "source": [
    "Q3. A truck runs a distance of N kms per day. Write a program to calculate how many days will\n",
    "be taken to cover M kms."
   ]
  },
  {
   "cell_type": "code",
   "execution_count": 19,
   "id": "cfe623a5",
   "metadata": {},
   "outputs": [
    {
     "name": "stdout",
     "output_type": "stream",
     "text": [
      "Enter the Distance to be Travelled: -100\n",
      "\n",
      "Distance Cannot be Negative.... Exiting Program...!!!\n",
      "<function NegativeDistanceError at 0x00000264CDA644C0>\n"
     ]
    }
   ],
   "source": [
    "#Solution for Q3\n",
    "def NegativeDistanceError(Exception):\n",
    "    \"Distance Cannot be Negative\"\n",
    "    pass\n",
    "\n",
    "def cal_time(kms):\n",
    "    return round(kms/10,2)             # Assume that truck travel 10KMS per day\n",
    "\n",
    "try:\n",
    "    kms = float(input(\"Enter the Distance to be Travelled: \"))\n",
    "    if kms<0.0:\n",
    "        raise NegativeDistanceError\n",
    "    else:\n",
    "        print(f\"Days Required to Travel {kms} Kilometers is:\",cal_time(kms))\n",
    "except:\n",
    "    print(f\"\\nDistance Cannot be Negative.... Exiting Program...!!!\\n{NegativeDistanceError}\")\n"
   ]
  },
  {
   "cell_type": "markdown",
   "id": "62604c37",
   "metadata": {},
   "source": [
    "Q4. Create a function that performs division of numbers. Since divide by zero gives an infinite\n",
    "so if a number which is denominator and 0 must give an exception while performing\n",
    "division operation."
   ]
  },
  {
   "cell_type": "code",
   "execution_count": 21,
   "id": "a81bffd4",
   "metadata": {},
   "outputs": [
    {
     "name": "stdout",
     "output_type": "stream",
     "text": [
      "Enter First Number :100\n",
      "Enter Second Number :0\n",
      "\n",
      "Division by Zero is Not Possible... Exiting Program...!!!\n",
      " <class 'ZeroDivisionError'>\n"
     ]
    }
   ],
   "source": [
    "#Solution for Q4\n",
    "def division(a,b):\n",
    "    return round(a/b,2)\n",
    "\n",
    "a= int(input(\"Enter First Number :\"))\n",
    "b= int(input(\"Enter Second Number :\"))\n",
    "try: \n",
    "    print(division(a,b))\n",
    "except:\n",
    "    print(f\"\\nDivision by Zero is Not Possible... Exiting Program...!!!\\n {ZeroDivisionError}\")"
   ]
  },
  {
   "cell_type": "code",
   "execution_count": null,
   "id": "20749c10",
   "metadata": {},
   "outputs": [],
   "source": []
  }
 ],
 "metadata": {
  "kernelspec": {
   "display_name": "Python 3",
   "language": "python",
   "name": "python3"
  },
  "language_info": {
   "codemirror_mode": {
    "name": "ipython",
    "version": 3
   },
   "file_extension": ".py",
   "mimetype": "text/x-python",
   "name": "python",
   "nbconvert_exporter": "python",
   "pygments_lexer": "ipython3",
   "version": "3.8.8"
  }
 },
 "nbformat": 4,
 "nbformat_minor": 5
}
